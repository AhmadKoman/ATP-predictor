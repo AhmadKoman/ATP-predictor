{
 "cells": [
  {
   "cell_type": "code",
   "execution_count": 1,
   "id": "initial_id",
   "metadata": {
    "ExecuteTime": {
     "end_time": "2025-05-27T19:37:14.363855Z",
     "start_time": "2025-05-27T19:37:12.529978Z"
    },
    "collapsed": true
   },
   "outputs": [],
   "source": [
    "import pandas as pd\n",
    "import numpy as np\n",
    "from sklearn.preprocessing import LabelEncoder\n",
    "from datetime import datetime"
   ]
  },
  {
   "cell_type": "code",
   "execution_count": 2,
   "id": "93d22a5cce316769",
   "metadata": {
    "ExecuteTime": {
     "end_time": "2025-05-27T19:37:16.796399Z",
     "start_time": "2025-05-27T19:37:14.848026Z"
    }
   },
   "outputs": [],
   "source": [
    "matches = pd.read_csv('atp_matches.csv')\n",
    "players = pd.read_csv('atp_players.csv')\n",
    "rankings = pd.read_csv('atp_rankings.csv')"
   ]
  },
  {
   "cell_type": "code",
   "execution_count": 3,
   "id": "cb2a4aa077155297",
   "metadata": {
    "ExecuteTime": {
     "end_time": "2025-05-27T19:37:17.642333Z",
     "start_time": "2025-05-27T19:37:17.635081Z"
    }
   },
   "outputs": [],
   "source": [
    "def preprocess_matches(matches):\n",
    "\n",
    "    numeric_cols = ['w_ace', 'w_df', 'w_svpt', 'w_1stIn', 'w_1stWon', 'w_2ndWon', 'w_SvGms', \n",
    "                    'w_bpSaved', 'w_bpFaced', 'l_ace', 'l_df', 'l_svpt', 'l_1stIn', 'l_1stWon', \n",
    "                    'l_2ndWon', 'l_SvGms', 'l_bpSaved', 'l_bpFaced', 'winner_rank', 'loser_rank', \n",
    "                    'winner_rank_points', 'loser_rank_points', 'minutes', 'winner_age', 'loser_age']\n",
    "    for col in numeric_cols:\n",
    "        matches[col] = matches[col].fillna(matches[col].median())\n",
    "\n",
    "    matches['winner_seed'] = matches['winner_seed'].fillna('Unseeded')\n",
    "    matches['loser_seed'] = matches['loser_seed'].fillna('Unseeded')\n",
    "    matches['winner_entry'] = matches['winner_entry'].fillna('None')\n",
    "    matches['loser_entry'] = matches['loser_entry'].fillna('None')\n",
    "    matches['surface'] = matches['surface'].fillna(matches['surface'].mode()[0])\n",
    "    matches['tourney_date'] = pd.to_datetime(matches['tourney_date'], format='%Y%m%d')\n",
    "    \n",
    "    # Encode categorical variables\n",
    "    le = LabelEncoder()\n",
    "    matches['surface'] = le.fit_transform(matches['surface'])\n",
    "    matches['tourney_level'] = le.fit_transform(matches['tourney_level'])\n",
    "    matches['winner_hand'] = matches['winner_hand'].fillna('U').apply(lambda x: 'U' if x not in ['R', 'L'] else x)\n",
    "    matches['loser_hand'] = matches['loser_hand'].fillna('U').apply(lambda x: 'U' if x not in ['R', 'L'] else x)\n",
    "    matches['winner_hand'] = le.fit_transform(matches['winner_hand'])\n",
    "    matches['loser_hand'] = le.fit_transform(matches['loser_hand'])\n",
    "    \n",
    "    # Feature engineering\n",
    "    matches['rank_diff'] = matches['winner_rank'] - matches['loser_rank']\n",
    "    matches['age_diff'] = matches['winner_age'] - matches['loser_age']\n",
    "    matches = matches.drop(['winner_name', 'loser_name'], axis=1)\n",
    "    \n",
    "    return matches"
   ]
  },
  {
   "cell_type": "code",
   "execution_count": 4,
   "id": "5cf842d9aae26f7c",
   "metadata": {
    "ExecuteTime": {
     "end_time": "2025-05-27T19:37:18.495291Z",
     "start_time": "2025-05-27T19:37:18.490241Z"
    }
   },
   "outputs": [],
   "source": [
    "def preprocess_players(players):\n",
    "\n",
    "    players['hand'] = players['hand'].fillna('U')\n",
    "    players['height'] = players['height'].fillna(players['height'].median())\n",
    "    \n",
    "\n",
    "    players['dob'] = pd.to_datetime(players['dob'], format='%Y%m%d', errors='coerce')\n",
    "    players['age'] = (datetime.now() - players['dob']).dt.days / 365.25\n",
    "    le = LabelEncoder()\n",
    "    players['hand'] = le.fit_transform(players['hand'])\n",
    "    players['ioc'] = le.fit_transform(players['ioc'].fillna('Unknown'))\n",
    "    players = players.drop(['name_first', 'name_last', 'wikidata_id'], axis=1)\n",
    "    \n",
    "    return players"
   ]
  },
  {
   "cell_type": "code",
   "execution_count": 5,
   "id": "ecf196c856716c7c",
   "metadata": {
    "ExecuteTime": {
     "end_time": "2025-05-27T19:37:19.256532Z",
     "start_time": "2025-05-27T19:37:19.252241Z"
    }
   },
   "outputs": [],
   "source": [
    "def preprocess_rankings(rankings):\n",
    "\n",
    "    rankings['points'] = rankings['points'].fillna(0)  # Assume 0 points for missing\n",
    "    \n",
    "    rankings['ranking_date'] = pd.to_datetime(rankings['ranking_date'], format='%Y%m%d')\n",
    "    rankings = rankings.drop_duplicates(subset=['ranking_date', 'player'])\n",
    "    \n",
    "    return rankings"
   ]
  },
  {
   "cell_type": "code",
   "execution_count": 6,
   "id": "eb7382a774b264db",
   "metadata": {
    "ExecuteTime": {
     "end_time": "2025-05-27T19:37:20.820828Z",
     "start_time": "2025-05-27T19:37:20.816055Z"
    }
   },
   "outputs": [],
   "source": [
    "def merge_datasets(matches, players, rankings):\n",
    "    #mergevmatches with players for winner and loser details\n",
    "    matches = matches.merge(players, left_on='winner_id', right_on='player_id', how='left', suffixes=('', '_winner'))\n",
    "    matches = matches.merge(players, left_on='loser_id', right_on='player_id', how='left', suffixes=('', '_loser'))\n",
    "    \n",
    "    # merge_w rankings for winner and loser ranks\n",
    "    matches = matches.merge(rankings, left_on=['winner_id', 'tourney_date'], right_on=['player', 'ranking_date'], how='left')\n",
    "    matches = matches.merge(rankings, left_on=['loser_id', 'tourney_date'], right_on=['player', 'ranking_date'], how='left', suffixes=('_winner', '_loser'))\n",
    "    \n",
    "    matches = matches.drop(['player_winner', 'player_loser', 'ranking_date_winner', 'ranking_date_loser'], axis=1)\n",
    "    \n",
    "    return matches"
   ]
  },
  {
   "cell_type": "code",
   "execution_count": 7,
   "id": "56ff00d6ad40003f",
   "metadata": {
    "ExecuteTime": {
     "end_time": "2025-05-27T19:37:24.644252Z",
     "start_time": "2025-05-27T19:37:21.622258Z"
    }
   },
   "outputs": [],
   "source": [
    "matches = preprocess_matches(matches)\n",
    "players = preprocess_players(players)\n",
    "rankings = preprocess_rankings(rankings)\n",
    "combined = merge_datasets(matches, players, rankings)"
   ]
  },
  {
   "cell_type": "code",
   "execution_count": 9,
   "id": "47ca709ebeea3c5",
   "metadata": {
    "ExecuteTime": {
     "end_time": "2025-05-27T19:40:12.672142Z",
     "start_time": "2025-05-27T19:40:06.234858Z"
    }
   },
   "outputs": [],
   "source": [
    "combined.to_csv('preprocessed_atp_data.csv', index=False)"
   ]
  },
  {
   "cell_type": "code",
   "execution_count": null,
   "id": "bc0c3c9e70d0f8b0",
   "metadata": {},
   "outputs": [],
   "source": []
  }
 ],
 "metadata": {
  "kernelspec": {
   "display_name": "Python 3",
   "language": "python",
   "name": "python3"
  },
  "language_info": {
   "codemirror_mode": {
    "name": "ipython",
    "version": 2
   },
   "file_extension": ".py",
   "mimetype": "text/x-python",
   "name": "python",
   "nbconvert_exporter": "python",
   "pygments_lexer": "ipython2",
   "version": "2.7.6"
  }
 },
 "nbformat": 4,
 "nbformat_minor": 5
}
