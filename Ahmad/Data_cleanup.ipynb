{
 "cells": [
  {
   "cell_type": "code",
   "id": "initial_id",
   "metadata": {
    "collapsed": true,
    "ExecuteTime": {
     "end_time": "2025-05-27T19:37:14.363855Z",
     "start_time": "2025-05-27T19:37:12.529978Z"
    }
   },
   "source": [
    "import pandas as pd\n",
    "import numpy as np\n",
    "from sklearn.preprocessing import LabelEncoder\n",
    "from datetime import datetime"
   ],
   "outputs": [],
   "execution_count": 1
  },
  {
   "metadata": {
    "ExecuteTime": {
     "end_time": "2025-05-27T19:37:16.796399Z",
     "start_time": "2025-05-27T19:37:14.848026Z"
    }
   },
   "cell_type": "code",
   "source": [
    "matches = pd.read_csv('atp_matches.csv')\n",
    "players = pd.read_csv('atp_players.csv')\n",
    "rankings = pd.read_csv('atp_rankings.csv')"
   ],
   "id": "93d22a5cce316769",
   "outputs": [],
   "execution_count": 2
  },
  {
   "metadata": {
    "ExecuteTime": {
     "end_time": "2025-05-27T19:37:17.642333Z",
     "start_time": "2025-05-27T19:37:17.635081Z"
    }
   },
   "cell_type": "code",
   "source": [
    "def preprocess_matches(matches):\n",
    "\n",
    "    numeric_cols = ['w_ace', 'w_df', 'w_svpt', 'w_1stIn', 'w_1stWon', 'w_2ndWon', 'w_SvGms', \n",
    "                    'w_bpSaved', 'w_bpFaced', 'l_ace', 'l_df', 'l_svpt', 'l_1stIn', 'l_1stWon', \n",
    "                    'l_2ndWon', 'l_SvGms', 'l_bpSaved', 'l_bpFaced', 'winner_rank', 'loser_rank', \n",
    "                    'winner_rank_points', 'loser_rank_points', 'minutes', 'winner_age', 'loser_age']\n",
    "    for col in numeric_cols:\n",
    "        matches[col] = matches[col].fillna(matches[col].median())\n",
    "\n",
    "    matches['winner_seed'] = matches['winner_seed'].fillna('Unseeded')\n",
    "    matches['loser_seed'] = matches['loser_seed'].fillna('Unseeded')\n",
    "    matches['winner_entry'] = matches['winner_entry'].fillna('None')\n",
    "    matches['loser_entry'] = matches['loser_entry'].fillna('None')\n",
    "    matches['surface'] = matches['surface'].fillna(matches['surface'].mode()[0])\n",
    "    matches['tourney_date'] = pd.to_datetime(matches['tourney_date'], format='%Y%m%d')\n",
    "    \n",
    "    # Encode categorical variables\n",
    "    le = LabelEncoder()\n",
    "    matches['surface'] = le.fit_transform(matches['surface'])\n",
    "    matches['tourney_level'] = le.fit_transform(matches['tourney_level'])\n",
    "    matches['winner_hand'] = matches['winner_hand'].fillna('U').apply(lambda x: 'U' if x not in ['R', 'L'] else x)\n",
    "    matches['loser_hand'] = matches['loser_hand'].fillna('U').apply(lambda x: 'U' if x not in ['R', 'L'] else x)\n",
    "    matches['winner_hand'] = le.fit_transform(matches['winner_hand'])\n",
    "    matches['loser_hand'] = le.fit_transform(matches['loser_hand'])\n",
    "    \n",
    "    # Feature engineering\n",
    "    matches['rank_diff'] = matches['winner_rank'] - matches['loser_rank']\n",
    "    matches['age_diff'] = matches['winner_age'] - matches['loser_age']\n",
    "    matches = matches.drop(['winner_name', 'loser_name'], axis=1)\n",
    "    \n",
    "    return matches"
   ],
   "id": "cb2a4aa077155297",
   "outputs": [],
   "execution_count": 3
  },
  {
   "metadata": {
    "ExecuteTime": {
     "end_time": "2025-05-27T19:37:18.495291Z",
     "start_time": "2025-05-27T19:37:18.490241Z"
    }
   },
   "cell_type": "code",
   "source": [
    "def preprocess_players(players):\n",
    "\n",
    "    players['hand'] = players['hand'].fillna('U')\n",
    "    players['height'] = players['height'].fillna(players['height'].median())\n",
    "    \n",
    "\n",
    "    players['dob'] = pd.to_datetime(players['dob'], format='%Y%m%d', errors='coerce')\n",
    "    players['age'] = (datetime.now() - players['dob']).dt.days / 365.25\n",
    "    le = LabelEncoder()\n",
    "    players['hand'] = le.fit_transform(players['hand'])\n",
    "    players['ioc'] = le.fit_transform(players['ioc'].fillna('Unknown'))\n",
    "    players = players.drop(['name_first', 'name_last', 'wikidata_id'], axis=1)\n",
    "    \n",
    "    return players"
   ],
   "id": "5cf842d9aae26f7c",
   "outputs": [],
   "execution_count": 4
  },
  {
   "metadata": {
    "ExecuteTime": {
     "end_time": "2025-05-27T19:37:19.256532Z",
     "start_time": "2025-05-27T19:37:19.252241Z"
    }
   },
   "cell_type": "code",
   "source": [
    "def preprocess_rankings(rankings):\n",
    "\n",
    "    rankings['points'] = rankings['points'].fillna(0)  # Assume 0 points for missing\n",
    "    \n",
    "    rankings['ranking_date'] = pd.to_datetime(rankings['ranking_date'], format='%Y%m%d')\n",
    "    rankings = rankings.drop_duplicates(subset=['ranking_date', 'player'])\n",
    "    \n",
    "    return rankings"
   ],
   "id": "ecf196c856716c7c",
   "outputs": [],
   "execution_count": 5
  },
  {
   "metadata": {
    "ExecuteTime": {
     "end_time": "2025-05-27T19:37:20.820828Z",
     "start_time": "2025-05-27T19:37:20.816055Z"
    }
   },
   "cell_type": "code",
   "source": [
    "def merge_datasets(matches, players, rankings):\n",
    "    #mergevmatches with players for winner and loser details\n",
    "    matches = matches.merge(players, left_on='winner_id', right_on='player_id', how='left', suffixes=('', '_winner'))\n",
    "    matches = matches.merge(players, left_on='loser_id', right_on='player_id', how='left', suffixes=('', '_loser'))\n",
    "    \n",
    "    # merge_w rankings for winner and loser ranks\n",
    "    matches = matches.merge(rankings, left_on=['winner_id', 'tourney_date'], right_on=['player', 'ranking_date'], how='left')\n",
    "    matches = matches.merge(rankings, left_on=['loser_id', 'tourney_date'], right_on=['player', 'ranking_date'], how='left', suffixes=('_winner', '_loser'))\n",
    "    \n",
    "    matches = matches.drop(['player_winner', 'player_loser', 'ranking_date_winner', 'ranking_date_loser'], axis=1)\n",
    "    \n",
    "    return matches"
   ],
   "id": "eb7382a774b264db",
   "outputs": [],
   "execution_count": 6
  },
  {
   "metadata": {
    "ExecuteTime": {
     "end_time": "2025-05-27T19:37:24.644252Z",
     "start_time": "2025-05-27T19:37:21.622258Z"
    }
   },
   "cell_type": "code",
   "source": [
    "matches = preprocess_matches(matches)\n",
    "players = preprocess_players(players)\n",
    "rankings = preprocess_rankings(rankings)\n",
    "combined = merge_datasets(matches, players, rankings)"
   ],
   "id": "56ff00d6ad40003f",
   "outputs": [],
   "execution_count": 7
  },
  {
   "metadata": {
    "ExecuteTime": {
     "end_time": "2025-05-27T19:40:12.672142Z",
     "start_time": "2025-05-27T19:40:06.234858Z"
    }
   },
   "cell_type": "code",
   "source": "combined.to_csv('preprocessed_atp_data.csv', index=False)",
   "id": "47ca709ebeea3c5",
   "outputs": [],
   "execution_count": 9
  },
  {
   "metadata": {},
   "cell_type": "code",
   "outputs": [],
   "execution_count": null,
   "source": "",
   "id": "bc0c3c9e70d0f8b0"
  }
 ],
 "metadata": {
  "kernelspec": {
   "display_name": "Python 3",
   "language": "python",
   "name": "python3"
  },
  "language_info": {
   "codemirror_mode": {
    "name": "ipython",
    "version": 2
   },
   "file_extension": ".py",
   "mimetype": "text/x-python",
   "name": "python",
   "nbconvert_exporter": "python",
   "pygments_lexer": "ipython2",
   "version": "2.7.6"
  }
 },
 "nbformat": 4,
 "nbformat_minor": 5
}
